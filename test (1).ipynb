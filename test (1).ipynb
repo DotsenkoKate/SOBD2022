{
 "cells": [
  {
   "cell_type": "code",
   "execution_count": 1,
   "id": "835f36f7-52d7-4dd1-9130-5d049840d7e8",
   "metadata": {},
   "outputs": [],
   "source": [
    "# Disable warnings from pandas that are caused by pyspark\n",
    "import warnings\n",
    "warnings.simplefilter(action='ignore', category=FutureWarning)\n",
    "\n",
    "# Import other modules not related to PySpark\n",
    "import numpy as np \n",
    "import pandas as pd \n",
    "import os"
   ]
  },
  {
   "cell_type": "code",
   "execution_count": 2,
   "id": "f0de1d85-3f7e-4146-b848-b370987042ee",
   "metadata": {},
   "outputs": [],
   "source": [
    "# Import PySpark related modules\n",
    "from pyspark.sql.types import *\n",
    "from pyspark.sql.functions import *\n",
    "from pyspark.sql import SparkSession\n",
    "import pyspark.sql.functions as F\n",
    "from pyspark.mllib.evaluation import MulticlassMetrics\n",
    "from pyspark.sql.types import FloatType\n",
    "\n",
    "from pyspark.ml import Pipeline\n",
    "from pyspark.ml.feature import VectorAssembler, StringIndexer, VectorIndexer, MinMaxScaler\n",
    "\n",
    "from pyspark.ml.regression import LinearRegression\n",
    "from pyspark.ml.classification import GBTClassifier\n",
    "from pyspark.ml.regression import RandomForestRegressor\n",
    "from pyspark.ml.classification import RandomForestClassifier\n",
    "\n",
    "from pyspark.ml.tuning import ParamGridBuilder, CrossValidator\n",
    "from pyspark.ml.evaluation import BinaryClassificationEvaluator, RegressionEvaluator\n",
    "from pyspark.ml.feature import StandardScaler, MinMaxScaler\n",
    "\n",
    "spark = SparkSession.builder.master(\"local[*]\").getOrCreate()"
   ]
  },
  {
   "cell_type": "markdown",
   "id": "e38fb1b9-65ba-4fcc-abe6-3d7ab2741d0d",
   "metadata": {},
   "source": [
    "## Построение линейной регрессии ##"
   ]
  },
  {
   "cell_type": "markdown",
   "id": "52b6616c-f4df-459c-94fe-4e385a373b29",
   "metadata": {},
   "source": [
    "### Подготовка данных ###"
   ]
  },
  {
   "cell_type": "markdown",
   "id": "5c34e401-e657-4207-b074-8f62dfbe800b",
   "metadata": {},
   "source": [
    "Загрузим данные из файла."
   ]
  },
  {
   "cell_type": "code",
   "execution_count": 3,
   "id": "5a81068c-7b51-4ef9-a739-f3c0472bde18",
   "metadata": {},
   "outputs": [],
   "source": [
    "df = spark.read.csv('./data/clean_data.csv', inferSchema=True, header=True)"
   ]
  },
  {
   "cell_type": "code",
   "execution_count": 4,
   "id": "8b315de5-9047-4edd-8fbe-14db340b198a",
   "metadata": {},
   "outputs": [
    {
     "name": "stdout",
     "output_type": "stream",
     "text": [
      "+---------+---------+---------+------+-------------+-----+------+-----+-----+------------+-----------+\n",
      "|    price|  geo_lat|  geo_lon|region|building_type|level|levels|rooms| area|kitchen_area|object_type|\n",
      "+---------+---------+---------+------+-------------+-----+------+-----+-----+------------+-----------+\n",
      "|2500000.0|43.634693|39.727165|  2843|            2|    2|     8|    0| 25.0|         5.0|          1|\n",
      "|1500000.0|  54.8887|38.605206|    81|            3|    2|     2|    2| 40.0|         6.0|          1|\n",
      "|4235680.0|55.696846|37.907326|    81|            1|   25|    25|    1| 36.8|         9.3|         11|\n",
      "|3690000.0| 55.57747|38.205257|    81|            2|    6|    10|    1| 43.0|        11.0|          1|\n",
      "|2310000.0|55.016808| 83.00891|  9654|            1|    1|    10|    3|59.02|         8.5|          1|\n",
      "|2300000.0| 54.94714|82.958595|  9654|            1|    4|    10|    2|63.13|       12.05|         11|\n",
      "|2460000.0|55.053036| 82.89764|  9654|            3|    5|    19|    1| 41.0|        12.0|         11|\n",
      "|2160000.0|55.032104| 83.02542|  9654|            1|    1|    10|    2| 58.0|         8.0|          1|\n",
      "|3100000.0|  55.0209| 83.00973|  9654|            1|   10|    10|    2| 59.0|        19.0|          1|\n",
      "|2050000.0|54.943893| 82.96749|  9654|            1|    3|    18|    3| 74.0|         7.0|         11|\n",
      "+---------+---------+---------+------+-------------+-----+------+-----+-----+------------+-----------+\n",
      "only showing top 10 rows\n",
      "\n"
     ]
    }
   ],
   "source": [
    "df.show(10)"
   ]
  },
  {
   "cell_type": "markdown",
   "id": "d60d6bef-bddb-493c-9be1-d69a12b02d84",
   "metadata": {},
   "source": [
    "Обозначаем Y и список X."
   ]
  },
  {
   "cell_type": "code",
   "execution_count": 5,
   "id": "9201dd95-8a04-4e8a-a92d-f6533a2c3963",
   "metadata": {},
   "outputs": [],
   "source": [
    "features = ['region', 'levels', \n",
    "            'area', 'kitchen_area']\n",
    "target = 'price'\n",
    "attributes = features + [target]\n",
    "sample = df.select(attributes)"
   ]
  },
  {
   "cell_type": "markdown",
   "id": "afb0b963-43e7-417f-a447-b4c0854e99ae",
   "metadata": {},
   "source": [
    "Векторизуем X."
   ]
  },
  {
   "cell_type": "code",
   "execution_count": 6,
   "id": "540f3b29-df51-42b0-a105-397b1a6a0518",
   "metadata": {},
   "outputs": [],
   "source": [
    "assembler = VectorAssembler(inputCols=features,\n",
    "                            outputCol='features')\n",
    "output = assembler.transform(sample)"
   ]
  },
  {
   "cell_type": "code",
   "execution_count": 7,
   "id": "0dd89635-13d0-4086-8f3d-769d7de52c8d",
   "metadata": {},
   "outputs": [
    {
     "name": "stdout",
     "output_type": "stream",
     "text": [
      "+------+------+-----+------------+---------+--------------------+\n",
      "|region|levels| area|kitchen_area|    price|            features|\n",
      "+------+------+-----+------------+---------+--------------------+\n",
      "|  2843|     8| 25.0|         5.0|2500000.0|[2843.0,8.0,25.0,...|\n",
      "|    81|     2| 40.0|         6.0|1500000.0| [81.0,2.0,40.0,6.0]|\n",
      "|    81|    25| 36.8|         9.3|4235680.0|[81.0,25.0,36.8,9.3]|\n",
      "|    81|    10| 43.0|        11.0|3690000.0|[81.0,10.0,43.0,1...|\n",
      "|  9654|    10|59.02|         8.5|2310000.0|[9654.0,10.0,59.0...|\n",
      "|  9654|    10|63.13|       12.05|2300000.0|[9654.0,10.0,63.1...|\n",
      "|  9654|    19| 41.0|        12.0|2460000.0|[9654.0,19.0,41.0...|\n",
      "|  9654|    10| 58.0|         8.0|2160000.0|[9654.0,10.0,58.0...|\n",
      "|  9654|    10| 59.0|        19.0|3100000.0|[9654.0,10.0,59.0...|\n",
      "|  9654|    18| 74.0|         7.0|2050000.0|[9654.0,18.0,74.0...|\n",
      "|  2922|    23| 38.0|        12.1|2280000.0|[2922.0,23.0,38.0...|\n",
      "|    81|     4| 39.8|        10.0|3200000.0|[81.0,4.0,39.8,10.0]|\n",
      "|  2604|    13| 69.1|        14.1|4760301.0|[2604.0,13.0,69.1...|\n",
      "|    81|    14| 39.4|         9.8|2100000.0|[81.0,14.0,39.4,9.8]|\n",
      "|  9579|     5| 52.3|         9.0|2050000.0|[9579.0,5.0,52.3,...|\n",
      "|    81|     5| 48.0|         6.0|2790000.0| [81.0,5.0,48.0,6.0]|\n",
      "|  6817|     5| 80.0|         9.0|2300000.0|[6817.0,5.0,80.0,...|\n",
      "|  2661|     9| 46.4|         7.1|4555000.0|[2661.0,9.0,46.4,...|\n",
      "|  3230|    18| 56.0|        10.0|2530000.0|[3230.0,18.0,56.0...|\n",
      "|  2722|     1| 36.2|         9.0| 250000.0|[2722.0,1.0,36.2,...|\n",
      "+------+------+-----+------------+---------+--------------------+\n",
      "only showing top 20 rows\n",
      "\n"
     ]
    }
   ],
   "source": [
    "output.show()"
   ]
  },
  {
   "cell_type": "markdown",
   "id": "b5b2a68f-b1bd-4437-a534-ffd90b05f20a",
   "metadata": {},
   "source": [
    "### Построение простейшей модели ###"
   ]
  },
  {
   "cell_type": "markdown",
   "id": "261fe3bc-4179-4f76-a6db-bee231f6f591",
   "metadata": {},
   "source": [
    "Делим векторизованную выборку на train и test."
   ]
  },
  {
   "cell_type": "code",
   "execution_count": 8,
   "id": "1358934c-df59-4206-9355-6cd0be1686fd",
   "metadata": {},
   "outputs": [],
   "source": [
    "train, test = output.randomSplit([0.95, 0.05])"
   ]
  },
  {
   "cell_type": "markdown",
   "id": "ae1ea044-a47a-4195-8c10-f3cb53e648b5",
   "metadata": {},
   "source": [
    "Создаем объект для модели линейной регрессии."
   ]
  },
  {
   "cell_type": "code",
   "execution_count": 9,
   "id": "5068dd34-5140-4bb6-b830-1ae2482dec2d",
   "metadata": {},
   "outputs": [],
   "source": [
    "simple_lr = LinearRegression(featuresCol='features', labelCol='price')"
   ]
  },
  {
   "cell_type": "markdown",
   "id": "aa90f5b4-c5ad-4dcd-9f43-718af822c1d6",
   "metadata": {},
   "source": [
    "Обучаем модель."
   ]
  },
  {
   "cell_type": "code",
   "execution_count": 10,
   "id": "40b55818-81d5-4a3e-b430-569d6fe6350e",
   "metadata": {},
   "outputs": [],
   "source": [
    "simple_model = simple_lr.fit(train)"
   ]
  },
  {
   "cell_type": "markdown",
   "id": "5a43c035-75a4-49a6-a81f-24c065f22bba",
   "metadata": {},
   "source": [
    "Оценка коэффициента детерминации модели."
   ]
  },
  {
   "cell_type": "code",
   "execution_count": 11,
   "id": "a88e714a-89b2-4670-b969-8c56954460e9",
   "metadata": {},
   "outputs": [
    {
     "name": "stdout",
     "output_type": "stream",
     "text": [
      "RMSE: 1505014.274937\n",
      "r2: 0.370568\n"
     ]
    }
   ],
   "source": [
    "simple_sum = simple_model.summary\n",
    "print(\"RMSE: %f\" % simple_sum.rootMeanSquaredError)\n",
    "print(\"r2: %f\" % simple_sum.r2)"
   ]
  },
  {
   "cell_type": "markdown",
   "id": "4e17d0cf-23c5-477d-947a-c7d567973419",
   "metadata": {},
   "source": [
    "Оценка модели на тестовой выборке."
   ]
  },
  {
   "cell_type": "code",
   "execution_count": 12,
   "id": "387bd8e0-0345-437c-9836-818c7880dd9a",
   "metadata": {},
   "outputs": [
    {
     "name": "stdout",
     "output_type": "stream",
     "text": [
      "+------------------+---------+-------------------+\n",
      "|        prediction|    price|           features|\n",
      "+------------------+---------+-------------------+\n",
      "|1194491.6765482042|9000000.0|  [3.0,3.0,6.0,2.0]|\n",
      "| 1772500.319194454|1900000.0| [3.0,3.0,18.0,3.0]|\n",
      "| 2167462.618557431|2200000.0| [3.0,3.0,26.0,4.0]|\n",
      "|2844272.6366917593|4500000.0|[3.0,3.0,36.5,10.8]|\n",
      "| 3036256.399812459|5800000.0|[3.0,3.0,41.2,10.0]|\n",
      "+------------------+---------+-------------------+\n",
      "only showing top 5 rows\n",
      "\n",
      "R Squared (R2) on test data = 0.373421\n"
     ]
    }
   ],
   "source": [
    "simle_test = simple_model.transform(test)\n",
    "simle_test.select(\"prediction\",\"price\",\"features\").show(5)\n",
    "simple_evaluator = RegressionEvaluator(predictionCol=\"prediction\", labelCol=\"price\",metricName=\"r2\")\n",
    "print(\"R Squared (R2) on test data = %g\" % simple_evaluator.evaluate(simle_test))"
   ]
  },
  {
   "cell_type": "markdown",
   "id": "d024b412-b91a-4e4f-afe6-02492a23f267",
   "metadata": {},
   "source": [
    "Вывод: ..."
   ]
  },
  {
   "cell_type": "markdown",
   "id": "3be9201f-1cfe-4bdc-868e-1e3ee98cec94",
   "metadata": {},
   "source": [
    "### Нормализация данных ###"
   ]
  },
  {
   "cell_type": "markdown",
   "id": "c3ff6319-4cec-4c9c-91ce-0f9fab827ffa",
   "metadata": {},
   "source": [
    "Проведем нормализацию значений к значениям диапозона [0, 1]."
   ]
  },
  {
   "cell_type": "code",
   "execution_count": 13,
   "id": "a971f3f0-68d4-4b8c-8ede-0e6d80d37a5e",
   "metadata": {},
   "outputs": [],
   "source": [
    "scaler = MinMaxScaler(inputCol=\"features\", outputCol=\"scaledFeatures\")\n",
    "scalerModel = scaler.fit(output)\n",
    "scaledData = scalerModel.transform(output)"
   ]
  },
  {
   "cell_type": "code",
   "execution_count": 14,
   "id": "5d81af58-8fef-46e4-85d7-4a76fc0c01f1",
   "metadata": {},
   "outputs": [
    {
     "name": "stdout",
     "output_type": "stream",
     "text": [
      "Features scaled to range: [0.000000, 1.000000]\n",
      "+-------------------------+-----------------------------------------------------------------------------------+\n",
      "|features                 |scaledFeatures                                                                     |\n",
      "+-------------------------+-----------------------------------------------------------------------------------+\n",
      "|[2843.0,8.0,25.0,5.0]    |[0.04589157307909833,0.18421052631578946,0.22438346648141716,0.18217710095882686]  |\n",
      "|[81.0,2.0,40.0,6.0]      |[0.0012604023592146724,0.02631578947368421,0.3980548801667246,0.2385786802030457]  |\n",
      "|[81.0,25.0,36.8,9.3]     |[0.0012604023592146724,0.631578947368421,0.3610049785805256,0.42470389170896794]   |\n",
      "|[81.0,10.0,43.0,11.0]    |[0.0012604023592146724,0.23684210526315788,0.4327891629037861,0.52058657642414]    |\n",
      "|[9654.0,10.0,59.02,8.5]  |[0.15595055344590775,0.23684210526315788,0.6182702327196944,0.3795826283135928]    |\n",
      "|[9654.0,10.0,63.13,12.05]|[0.15595055344590775,0.23684210526315788,0.6658562000694687,0.5798082346305697]    |\n",
      "|[9654.0,19.0,41.0,12.0]  |[0.15595055344590775,0.47368421052631576,0.40963297441241175,0.5769881556683587]   |\n",
      "|[9654.0,10.0,58.0,8.0]   |[0.15595055344590775,0.23684210526315788,0.6064605765890935,0.3513818386914834]    |\n",
      "|[9654.0,10.0,59.0,19.0]  |[0.15595055344590775,0.23684210526315788,0.6180386708347807,0.9717992103778906]    |\n",
      "|[9654.0,18.0,74.0,7.0]   |[0.15595055344590775,0.4473684210526315,0.791710084520088,0.2949802594472646]      |\n",
      "|[2922.0,23.0,38.0,12.1]  |[0.04716813444291832,0.5789473684210527,0.3748986916753503,0.5826283135927807]     |\n",
      "|[81.0,4.0,39.8,10.0]     |[0.0012604023592146724,0.07894736842105263,0.39573926131758713,0.46418499717992107]|\n",
      "|[2604.0,13.0,69.1,14.1]  |[0.04202957097842773,0.3157894736842105,0.7349774227162209,0.6954314720812182]     |\n",
      "|[81.0,14.0,39.4,9.8]     |[0.0012604023592146724,0.3421052631578947,0.3911080236193123,0.45290468133107736]  |\n",
      "|[9579.0,5.0,52.3,9.0]    |[0.154738628100509,0.10526315789473684,0.5404654393886766,0.4077834179357022]      |\n",
      "|[81.0,5.0,48.0,6.0]      |[0.0012604023592146724,0.10526315789473684,0.4906796341322219,0.2385786802030457]  |\n",
      "|[6817.0,5.0,80.0,9.0]    |[0.11010745738062536,0.10526315789473684,0.8611786499942109,0.4077834179357022]    |\n",
      "|[2661.0,9.0,46.4,7.1]    |[0.04295063424093076,0.21052631578947367,0.4721546833391224,0.30062041737168643]   |\n",
      "|[3230.0,18.0,56.0,10.0]  |[0.05214510786135575,0.4473684210526315,0.5833043880977191,0.46418499717992107]    |\n",
      "|[2722.0,1.0,36.2,9.0]    |[0.04393633352185506,0.0,0.3540581220331134,0.4077834179357022]                    |\n",
      "+-------------------------+-----------------------------------------------------------------------------------+\n",
      "only showing top 20 rows\n",
      "\n"
     ]
    }
   ],
   "source": [
    "print(\"Features scaled to range: [%f, %f]\" % (scaler.getMin(), scaler.getMax()))\n",
    "scaledData.select(\"features\", \"scaledFeatures\").show(truncate=False)"
   ]
  },
  {
   "cell_type": "markdown",
   "id": "15579563-1e9d-45bb-b5fb-76e445645387",
   "metadata": {},
   "source": [
    "Делим векторизованную и нормализованную выборку на train и test."
   ]
  },
  {
   "cell_type": "code",
   "execution_count": 15,
   "id": "5675ea8f-bf98-4311-818e-b1f0fe41405d",
   "metadata": {},
   "outputs": [],
   "source": [
    "train_norm, test_norm = scaledData.randomSplit([0.95, 0.05])"
   ]
  },
  {
   "cell_type": "markdown",
   "id": "26a656ad-c915-4475-96f9-c105f1229047",
   "metadata": {},
   "source": [
    "### Построение модели на нормализованных данных ###"
   ]
  },
  {
   "cell_type": "markdown",
   "id": "e76a57fd-b45a-4c6b-b985-7cc0814f3ffc",
   "metadata": {},
   "source": [
    "Создаем новый объект для модели линейной регрессии."
   ]
  },
  {
   "cell_type": "code",
   "execution_count": 16,
   "id": "41d0f220-20a8-42a2-8050-03d5d95af377",
   "metadata": {},
   "outputs": [],
   "source": [
    "norm_lr = LinearRegression(featuresCol='scaledFeatures', labelCol='price')"
   ]
  },
  {
   "cell_type": "markdown",
   "id": "3cdac250-86fe-4acc-88d4-e68e1961ad4a",
   "metadata": {},
   "source": [
    "Создаем объект модели."
   ]
  },
  {
   "cell_type": "code",
   "execution_count": 17,
   "id": "143c6556-0013-4971-ac5c-392f1fa5e5e5",
   "metadata": {},
   "outputs": [],
   "source": [
    "norm_model = norm_lr.fit(train_norm)"
   ]
  },
  {
   "cell_type": "markdown",
   "id": "c0f96766-60af-45e8-8982-7d1c48c32145",
   "metadata": {},
   "source": [
    "Оценка коэффициента детерминации."
   ]
  },
  {
   "cell_type": "code",
   "execution_count": 18,
   "id": "4f03b566-5a96-49ce-8f43-7a93d8f3d558",
   "metadata": {},
   "outputs": [
    {
     "name": "stdout",
     "output_type": "stream",
     "text": [
      "RMSE: 1504966.513911\n",
      "r2: 0.370636\n"
     ]
    }
   ],
   "source": [
    "norm_sum = norm_model.summary\n",
    "print(\"RMSE: %f\" % norm_sum.rootMeanSquaredError)\n",
    "print(\"r2: %f\" % norm_sum.r2)"
   ]
  },
  {
   "cell_type": "markdown",
   "id": "9a717c5e-65c2-4bd9-98dc-d836dd5071ee",
   "metadata": {},
   "source": [
    "Оценка модели на тестовой выборке."
   ]
  },
  {
   "cell_type": "code",
   "execution_count": 19,
   "id": "a526d389-472a-4ff7-aba7-54a8ab87f382",
   "metadata": {},
   "outputs": [
    {
     "name": "stdout",
     "output_type": "stream",
     "text": [
      "+------------------+---------+--------------------+\n",
      "|        prediction|    price|      scaledFeatures|\n",
      "+------------------+---------+--------------------+\n",
      "|3552295.9880668204|4000000.0|[0.0,0.0,0.590251...|\n",
      "| 3205773.533298606|2350000.0|[0.0,0.0263157894...|\n",
      "|1903098.8862979573|6589900.0|[0.0,0.0526315789...|\n",
      "|2166975.1838930096|2200000.0|[0.0,0.0526315789...|\n",
      "| 2574231.009407202|5800000.0|[0.0,0.0526315789...|\n",
      "+------------------+---------+--------------------+\n",
      "only showing top 5 rows\n",
      "\n",
      "R Squared (R2) on test data = 0.372141\n"
     ]
    }
   ],
   "source": [
    "norm_test = norm_model.transform(test_norm)\n",
    "norm_test.select(\"prediction\",\"price\",\"scaledFeatures\").show(5)\n",
    "norm_evaluator = RegressionEvaluator(predictionCol=\"prediction\", labelCol=\"price\",metricName=\"r2\")\n",
    "print(\"R Squared (R2) on test data = %g\" % norm_evaluator.evaluate(norm_test))"
   ]
  },
  {
   "cell_type": "markdown",
   "id": "ffd07dc4-f738-414b-9c4a-306dd53a22ab",
   "metadata": {},
   "source": [
    "Вывод: Результат примерно тот же. Теперь попробуем изменить гиперпараметры."
   ]
  },
  {
   "cell_type": "markdown",
   "id": "db385b49-46ff-4c91-a368-57381f83226f",
   "metadata": {},
   "source": [
    "### Подбор гиперпараметров ###"
   ]
  },
  {
   "cell_type": "markdown",
   "id": "1472bf91-3416-4831-a7ce-e0c4294fd844",
   "metadata": {},
   "source": [
    "Создаем объект линейной регрессии."
   ]
  },
  {
   "cell_type": "code",
   "execution_count": 20,
   "id": "01d47965-ad99-40f1-928b-152e53664c07",
   "metadata": {},
   "outputs": [],
   "source": [
    "par_lr = LinearRegression(featuresCol='scaledFeatures', labelCol='price')"
   ]
  },
  {
   "cell_type": "markdown",
   "id": "9de5bd70-4fc7-4ee4-9af8-325df8ebb900",
   "metadata": {},
   "source": [
    "Оперделяем наборы параметров, на которых будет происходить поиск наиболее удачной модели."
   ]
  },
  {
   "cell_type": "code",
   "execution_count": 21,
   "id": "cd9ce82f-cf5c-4a19-9e40-8a0f59dea657",
   "metadata": {},
   "outputs": [],
   "source": [
    "grid_search = ParamGridBuilder().addGrid(par_lr.regParam, [0.0, 0.01, 0.1, 0.25, 0.5, 1.0]).addGrid(par_lr.elasticNetParam, [0.5, 1.0]).build()"
   ]
  },
  {
   "cell_type": "markdown",
   "id": "5aaaf715-29fe-4c40-9551-73856a117f53",
   "metadata": {},
   "source": [
    "### Построение модели на нормализованных данных с гиперпараметрами ###"
   ]
  },
  {
   "cell_type": "markdown",
   "id": "21e1d594-70d1-442d-80c9-9b4462ad5822",
   "metadata": {},
   "source": [
    "Определение метрики качества."
   ]
  },
  {
   "cell_type": "code",
   "execution_count": 22,
   "id": "94e3bced-011b-498e-8280-19e3c7b8022a",
   "metadata": {},
   "outputs": [],
   "source": [
    "par_evaluator = RegressionEvaluator(predictionCol='prediction', labelCol='price', metricName=\"r2\")"
   ]
  },
  {
   "cell_type": "markdown",
   "id": "3b0b3030-7fb1-48c5-b1e1-d22901b67d0f",
   "metadata": {},
   "source": [
    "Запуск кроссвалидации, которая осуществляет подбор наилучших параметров модели."
   ]
  },
  {
   "cell_type": "code",
   "execution_count": 23,
   "id": "2929ecc6-c6b1-445a-8c71-b8f536485230",
   "metadata": {},
   "outputs": [],
   "source": [
    "cv = CrossValidator(estimator=par_lr,\n",
    "                    estimatorParamMaps=grid_search,\n",
    "                    evaluator=par_evaluator)\n",
    "cv_model = cv.fit(train_norm)"
   ]
  },
  {
   "cell_type": "markdown",
   "id": "95ce7cc5-08c8-4a40-8f6f-2a1e8cad0b5f",
   "metadata": {},
   "source": [
    "Оценка качества модели."
   ]
  },
  {
   "cell_type": "code",
   "execution_count": 24,
   "id": "0323c5a6-cefb-4da9-96e0-75729d7e2e2b",
   "metadata": {},
   "outputs": [
    {
     "name": "stdout",
     "output_type": "stream",
     "text": [
      "RMSE: 1504966.513911\n",
      "r2: 0.370636\n"
     ]
    }
   ],
   "source": [
    "par_sum = cv_model.bestModel.summary\n",
    "print(\"RMSE: %f\" % par_sum.rootMeanSquaredError)\n",
    "print(\"r2: %f\" % par_sum.r2)"
   ]
  },
  {
   "cell_type": "markdown",
   "id": "dbb23eb5-2957-45ba-9bcc-f899c9b418d7",
   "metadata": {},
   "source": [
    "Оценка коэффициента детерминации на тестовой выборке."
   ]
  },
  {
   "cell_type": "code",
   "execution_count": 25,
   "id": "49030cb1-2be5-4930-9f32-6ad837b42a83",
   "metadata": {},
   "outputs": [
    {
     "name": "stdout",
     "output_type": "stream",
     "text": [
      "+------------------+---------+------------------+\n",
      "|        prediction|    price|          features|\n",
      "+------------------+---------+------------------+\n",
      "| 3552296.119136994|4000000.0|[3.0,1.0,56.6,9.8]|\n",
      "|3205773.6624871437|2350000.0|[3.0,2.0,48.8,7.0]|\n",
      "|1903099.0026139005|6589900.0|[3.0,3.0,21.5,2.0]|\n",
      "| 2166975.292768276|2200000.0|[3.0,3.0,26.0,4.0]|\n",
      "|2574231.1074509313|5800000.0|[3.0,3.0,33.0,7.0]|\n",
      "+------------------+---------+------------------+\n",
      "only showing top 5 rows\n",
      "\n",
      "R Squared (R2) on test data = 0.372141\n"
     ]
    }
   ],
   "source": [
    "par_test = cv_model.bestModel.transform(test_norm)\n",
    "par_test.select(\"prediction\",\"price\",\"features\").show(5)\n",
    "print(\"R Squared (R2) on test data = %g\" % par_evaluator.evaluate(par_test))"
   ]
  },
  {
   "cell_type": "markdown",
   "id": "4d306959-93c7-412d-9322-2f1a98a4f846",
   "metadata": {},
   "source": [
    "## Построение модели классификации ##"
   ]
  },
  {
   "cell_type": "markdown",
   "id": "080a666c-4ece-4c7d-9604-e4b8842b8d2a",
   "metadata": {},
   "source": [
    "### Подготовка данных. ###"
   ]
  },
  {
   "cell_type": "markdown",
   "id": "dd181055-3c62-4975-9276-5dd806a5a23c",
   "metadata": {},
   "source": [
    "Данные (датасет) уже был загружен в df на этапе построения регрессии, поэтому подготовка данных \n",
    "в виде загрузки датасета из файла не требуется."
   ]
  },
  {
   "cell_type": "markdown",
   "id": "856f9040-b3d3-4184-a506-afbcc3869490",
   "metadata": {},
   "source": [
    "Для начала необходимо определить среднюю площадь жилья. Среднее значение площади будет выступать разделителем\n",
    "2-ух категорий."
   ]
  },
  {
   "cell_type": "code",
   "execution_count": 26,
   "id": "41da7859-a5bc-4879-a650-7d3eb8568be0",
   "metadata": {},
   "outputs": [
    {
     "name": "stdout",
     "output_type": "stream",
     "text": [
      "+-------+------------------+-----------------+-----------------+------------------+------------------+-----------------+------------------+------------------+-----------------+------------------+------------------+\n",
      "|summary|             price|          geo_lat|          geo_lon|            region|     building_type|            level|            levels|             rooms|             area|      kitchen_area|       object_type|\n",
      "+-------+------------------+-----------------+-----------------+------------------+------------------+-----------------+------------------+------------------+-----------------+------------------+------------------+\n",
      "|  count|           3770519|          3770519|          3770519|           3770519|           3770519|          3770519|           3770519|           3770519|          3770519|           3770519|           3770519|\n",
      "|   mean|3387280.3516600765|53.84268174798873|50.23187692441584|3719.4153221346983|2.0523766091617626|6.034259474624051|11.027972011280145|1.6962152955601073|48.16346755977078| 9.464827067573792|3.3384048721144226|\n",
      "| stddev|1897031.0460796794|4.931428411822972|19.11738551713743|2810.3260771741493|  1.03830391917462|4.868936574960925| 6.613818107751742|0.8568275966603824|15.29560429756665|3.3631715464843235| 4.232719708035714|\n",
      "|    min|          100000.0|         41.45906|        19.890196|                 3|                 0|                1|                 1|                 0|             5.62|              1.77|                 1|\n",
      "|    max|         9813510.0|          71.9804|        162.53607|             61888|                 5|               39|                39|                 9|            91.99|              19.5|                11|\n",
      "+-------+------------------+-----------------+-----------------+------------------+------------------+-----------------+------------------+------------------+-----------------+------------------+------------------+\n",
      "\n"
     ]
    }
   ],
   "source": [
    "df.describe().show()"
   ]
  },
  {
   "cell_type": "code",
   "execution_count": 27,
   "id": "f8d558fd-5406-48c5-ab68-5aad157bc7fd",
   "metadata": {},
   "outputs": [
    {
     "data": {
      "text/plain": [
       "48.16346755977078"
      ]
     },
     "execution_count": 27,
     "metadata": {},
     "output_type": "execute_result"
    }
   ],
   "source": [
    "mean_area = df.select(mean('area')).collect()[0][0]\n",
    "mean_area"
   ]
  },
  {
   "cell_type": "code",
   "execution_count": 28,
   "id": "2ba4fbb3-5899-4b14-ad46-d7d3dc6644b6",
   "metadata": {},
   "outputs": [
    {
     "name": "stdout",
     "output_type": "stream",
     "text": [
      "0.4240161632921091\n"
     ]
    }
   ],
   "source": [
    "print(df.where(df['area']> 48.5).count()/df.count())"
   ]
  },
  {
   "cell_type": "markdown",
   "id": "b247a841-2179-4e3c-b5bb-d7eea20b5f20",
   "metadata": {},
   "source": [
    "Наша модель классификации должна определять к какой категории по площади относится жилье, обозначенное в сделке. \n",
    "Если площадь жилья > 48.16346755977078, то жилье относится к 1 категории, иначе ко 2 категории."
   ]
  },
  {
   "cell_type": "markdown",
   "id": "2012b13e-ee2e-4557-8676-83ef9d31bbc4",
   "metadata": {},
   "source": [
    "Добавим бинарный признак в датафрейм."
   ]
  },
  {
   "cell_type": "code",
   "execution_count": 29,
   "id": "87194204-a664-4a0f-8494-f976d46c1d02",
   "metadata": {},
   "outputs": [
    {
     "name": "stdout",
     "output_type": "stream",
     "text": [
      "+---------+---------+---------+------+-------------+-----+------+-----+-----+------------+-----------+---------+\n",
      "|    price|  geo_lat|  geo_lon|region|building_type|level|levels|rooms| area|kitchen_area|object_type|area_type|\n",
      "+---------+---------+---------+------+-------------+-----+------+-----+-----+------------+-----------+---------+\n",
      "|2500000.0|43.634693|39.727165|  2843|            2|    2|     8|    0| 25.0|         5.0|          1|        0|\n",
      "|1500000.0|  54.8887|38.605206|    81|            3|    2|     2|    2| 40.0|         6.0|          1|        0|\n",
      "|4235680.0|55.696846|37.907326|    81|            1|   25|    25|    1| 36.8|         9.3|         11|        0|\n",
      "|3690000.0| 55.57747|38.205257|    81|            2|    6|    10|    1| 43.0|        11.0|          1|        0|\n",
      "|2310000.0|55.016808| 83.00891|  9654|            1|    1|    10|    3|59.02|         8.5|          1|        1|\n",
      "|2300000.0| 54.94714|82.958595|  9654|            1|    4|    10|    2|63.13|       12.05|         11|        1|\n",
      "|2460000.0|55.053036| 82.89764|  9654|            3|    5|    19|    1| 41.0|        12.0|         11|        0|\n",
      "|2160000.0|55.032104| 83.02542|  9654|            1|    1|    10|    2| 58.0|         8.0|          1|        1|\n",
      "|3100000.0|  55.0209| 83.00973|  9654|            1|   10|    10|    2| 59.0|        19.0|          1|        1|\n",
      "|2050000.0|54.943893| 82.96749|  9654|            1|    3|    18|    3| 74.0|         7.0|         11|        1|\n",
      "|2280000.0|55.763004| 49.14884|  2922|            2|   10|    23|    1| 38.0|        12.1|         11|        0|\n",
      "|3200000.0|55.811153|37.009174|    81|            3|    4|     4|    1| 39.8|        10.0|          1|        0|\n",
      "|4760301.0|57.627186|39.849064|  2604|            2|    2|    13|    2| 69.1|        14.1|         11|        1|\n",
      "|2100000.0| 54.87665| 37.22043|    81|            3|    6|    14|    1| 39.4|         9.8|          1|        0|\n",
      "|2050000.0|51.833584|107.58422|  9579|            3|    1|     5|    2| 52.3|         9.0|          1|        1|\n",
      "|2790000.0|55.433067|37.712433|    81|            1|    4|     5|    2| 48.0|         6.0|          1|        0|\n",
      "|2300000.0| 52.54531| 85.28877|  6817|            3|    1|     5|    4| 80.0|         9.0|          1|        1|\n",
      "|4555000.0|60.052437| 30.33981|  2661|            2|    9|     9|    2| 46.4|         7.1|          1|        0|\n",
      "|2530000.0|47.289867|39.678192|  3230|            1|    3|    18|    2| 56.0|        10.0|         11|        1|\n",
      "| 250000.0|53.934822|54.739304|  2722|            5|    1|     1|    2| 36.2|         9.0|          1|        0|\n",
      "+---------+---------+---------+------+-------------+-----+------+-----+-----+------------+-----------+---------+\n",
      "only showing top 20 rows\n",
      "\n"
     ]
    }
   ],
   "source": [
    "new_df = df.select(\"*\", ((col(\"area\") > mean_area).cast(\"Int\").alias(\"area_type\")))\n",
    "new_df.show(20)"
   ]
  },
  {
   "cell_type": "markdown",
   "id": "eaee4b2c-dac8-4ec5-a9dc-6e0834bd686e",
   "metadata": {},
   "source": [
    "Далее определим наиболее значимые (с большей корреляцией) признаки, которые необходимо включить в список \n",
    "признаков для обучения модели."
   ]
  },
  {
   "cell_type": "markdown",
   "id": "6cf9f047-d933-46f1-b276-c9b237cdf676",
   "metadata": {},
   "source": [
    "Согласно таблицы корреляции можно выделить следующие параметры: price, kitchen_area, rooms."
   ]
  },
  {
   "cell_type": "code",
   "execution_count": 30,
   "id": "6b4cca5b-5717-4e4c-83ff-f2f6626f560b",
   "metadata": {},
   "outputs": [],
   "source": [
    "features = ['rooms', 'price', 'kitchen_area']\n",
    "target = 'area_type'\n",
    "attributes = features + [target]\n",
    "sample = new_df.select(attributes)"
   ]
  },
  {
   "cell_type": "markdown",
   "id": "0035ebef-f7f3-4771-98b3-462f71f07e0d",
   "metadata": {},
   "source": [
    "Векторизуем features."
   ]
  },
  {
   "cell_type": "code",
   "execution_count": 31,
   "id": "73d97cf9-951f-4ec2-b17a-523186bab74b",
   "metadata": {},
   "outputs": [],
   "source": [
    "assembler = VectorAssembler(inputCols=features,\n",
    "                            outputCol='features')\n",
    "output = assembler.transform(sample)"
   ]
  },
  {
   "cell_type": "code",
   "execution_count": 32,
   "id": "e1db095b-c3b2-4c52-a350-9ae91e640219",
   "metadata": {},
   "outputs": [
    {
     "name": "stdout",
     "output_type": "stream",
     "text": [
      "+-----+---------+------------+---------+--------------------+\n",
      "|rooms|    price|kitchen_area|area_type|            features|\n",
      "+-----+---------+------------+---------+--------------------+\n",
      "|    0|2500000.0|         5.0|        0| [0.0,2500000.0,5.0]|\n",
      "|    2|1500000.0|         6.0|        0| [2.0,1500000.0,6.0]|\n",
      "|    1|4235680.0|         9.3|        0| [1.0,4235680.0,9.3]|\n",
      "|    1|3690000.0|        11.0|        0|[1.0,3690000.0,11.0]|\n",
      "|    3|2310000.0|         8.5|        1| [3.0,2310000.0,8.5]|\n",
      "|    2|2300000.0|       12.05|        1|[2.0,2300000.0,12...|\n",
      "|    1|2460000.0|        12.0|        0|[1.0,2460000.0,12.0]|\n",
      "|    2|2160000.0|         8.0|        1| [2.0,2160000.0,8.0]|\n",
      "|    2|3100000.0|        19.0|        1|[2.0,3100000.0,19.0]|\n",
      "|    3|2050000.0|         7.0|        1| [3.0,2050000.0,7.0]|\n",
      "|    1|2280000.0|        12.1|        0|[1.0,2280000.0,12.1]|\n",
      "|    1|3200000.0|        10.0|        0|[1.0,3200000.0,10.0]|\n",
      "|    2|4760301.0|        14.1|        1|[2.0,4760301.0,14.1]|\n",
      "|    1|2100000.0|         9.8|        0| [1.0,2100000.0,9.8]|\n",
      "|    2|2050000.0|         9.0|        1| [2.0,2050000.0,9.0]|\n",
      "|    2|2790000.0|         6.0|        0| [2.0,2790000.0,6.0]|\n",
      "|    4|2300000.0|         9.0|        1| [4.0,2300000.0,9.0]|\n",
      "|    2|4555000.0|         7.1|        0| [2.0,4555000.0,7.1]|\n",
      "|    2|2530000.0|        10.0|        1|[2.0,2530000.0,10.0]|\n",
      "|    2| 250000.0|         9.0|        0|  [2.0,250000.0,9.0]|\n",
      "+-----+---------+------------+---------+--------------------+\n",
      "only showing top 20 rows\n",
      "\n"
     ]
    }
   ],
   "source": [
    "output.show()"
   ]
  },
  {
   "cell_type": "markdown",
   "id": "65156038-b770-4b18-ba55-a825f0d84bb1",
   "metadata": {},
   "source": [
    "Нормализуем данные."
   ]
  },
  {
   "cell_type": "code",
   "execution_count": 33,
   "id": "aa1013d0-7d1a-44ed-ba0a-67f555622979",
   "metadata": {},
   "outputs": [],
   "source": [
    "scaler = MinMaxScaler(inputCol=\"features\", outputCol=\"scaledFeatures\")\n",
    "scalerModel = scaler.fit(output)\n",
    "scaledData = scalerModel.transform(output)"
   ]
  },
  {
   "cell_type": "code",
   "execution_count": 34,
   "id": "c5edfc1d-256d-44ac-a1f6-f234756edb97",
   "metadata": {},
   "outputs": [
    {
     "name": "stdout",
     "output_type": "stream",
     "text": [
      "Features scaled to range: [0.000000, 1.000000]\n",
      "+---------------------+------------------------------------------------------------+\n",
      "|features             |scaledFeatures                                              |\n",
      "+---------------------+------------------------------------------------------------+\n",
      "|[0.0,2500000.0,5.0]  |[0.0,0.24707855347860863,0.18217710095882686]               |\n",
      "|[2.0,1500000.0,6.0]  |[0.2222222222222222,0.14412915619585503,0.2385786802030457] |\n",
      "|[1.0,4235680.0,9.3]  |[0.1111111111111111,0.4257657633543384,0.42470389170896794] |\n",
      "|[1.0,3690000.0,11.0] |[0.1111111111111111,0.3695883362450854,0.52058657642414]    |\n",
      "|[3.0,2310000.0,8.5]  |[0.3333333333333333,0.22751816799488547,0.3795826283135928] |\n",
      "|[2.0,2300000.0,12.05]|[0.2222222222222222,0.2264886740220579,0.5798082346305697]  |\n",
      "|[1.0,2460000.0,12.0] |[0.1111111111111111,0.2429605775872985,0.5769881556683587]  |\n",
      "|[2.0,2160000.0,8.0]  |[0.2222222222222222,0.21207575840247242,0.3513818386914834] |\n",
      "|[2.0,3100000.0,19.0] |[0.2222222222222222,0.3088481918482608,0.9717992103778906]  |\n",
      "|[3.0,2050000.0,7.0]  |[0.3333333333333333,0.20075132470136953,0.2949802594472646] |\n",
      "|[1.0,2280000.0,12.1] |[0.1111111111111111,0.22442968607640285,0.5826283135927807] |\n",
      "|[1.0,3200000.0,10.0] |[0.1111111111111111,0.3191431315765362,0.46418499717992107] |\n",
      "|[2.0,4760301.0,14.1] |[0.2222222222222222,0.47977517910621387,0.6954314720812182] |\n",
      "|[1.0,2100000.0,9.8]  |[0.1111111111111111,0.2058987945655072,0.45290468133107736] |\n",
      "|[2.0,2050000.0,9.0]  |[0.2222222222222222,0.20075132470136953,0.4077834179357022] |\n",
      "|[2.0,2790000.0,6.0]  |[0.2222222222222222,0.2769338786906072,0.2385786802030457]  |\n",
      "|[4.0,2300000.0,9.0]  |[0.4444444444444444,0.2264886740220579,0.4077834179357022]  |\n",
      "|[2.0,4555000.0,7.1]  |[0.2222222222222222,0.4586395648946673,0.30062041737168643] |\n",
      "|[2.0,2530000.0,10.0] |[0.2222222222222222,0.25016703539709123,0.46418499717992107]|\n",
      "|[2.0,250000.0,9.0]   |[0.2222222222222222,0.01544240959241304,0.4077834179357022] |\n",
      "+---------------------+------------------------------------------------------------+\n",
      "only showing top 20 rows\n",
      "\n"
     ]
    }
   ],
   "source": [
    "print(\"Features scaled to range: [%f, %f]\" % (scaler.getMin(), scaler.getMax()))\n",
    "scaledData.select(\"features\", \"scaledFeatures\").show(truncate=False)"
   ]
  },
  {
   "cell_type": "markdown",
   "id": "cc44d80a-f912-437e-b5d8-aac4d18e9173",
   "metadata": {},
   "source": [
    "Разделение данных на тестувую и обучающую выборки."
   ]
  },
  {
   "cell_type": "code",
   "execution_count": 35,
   "id": "d0a3fd28-8fbf-4634-932f-415a53f58ebf",
   "metadata": {},
   "outputs": [],
   "source": [
    "train_norm, test_norm = scaledData.randomSplit([0.95, 0.05])"
   ]
  },
  {
   "cell_type": "markdown",
   "id": "62124c82-3111-4872-ac98-cdf8c16d3e38",
   "metadata": {},
   "source": [
    "### Построение модели с дефолтными параметрами ###"
   ]
  },
  {
   "cell_type": "markdown",
   "id": "fbe31249-5b1d-4088-82ca-cd754a56f036",
   "metadata": {},
   "source": [
    "Создадим объект модели."
   ]
  },
  {
   "cell_type": "code",
   "execution_count": 52,
   "id": "4ee34817-35ab-4adb-a811-91b553efd01b",
   "metadata": {},
   "outputs": [],
   "source": [
    "norm_rf = RandomForestClassifier(featuresCol = 'scaledFeatures', labelCol = 'area_type')"
   ]
  },
  {
   "cell_type": "markdown",
   "id": "935e19b0-9b3e-4d18-8dba-de69f5f64061",
   "metadata": {},
   "source": [
    "Обучаем модель."
   ]
  },
  {
   "cell_type": "code",
   "execution_count": 53,
   "id": "ea056633-a7f0-4cbd-afab-6664d7cdbe78",
   "metadata": {},
   "outputs": [],
   "source": [
    "norm_model = norm_rf.fit(train_norm)"
   ]
  },
  {
   "cell_type": "code",
   "execution_count": 55,
   "id": "e67e24be-d823-4eb5-bd58-cec2c935b2af",
   "metadata": {},
   "outputs": [
    {
     "name": "stdout",
     "output_type": "stream",
     "text": [
      "+----------+---------+--------------------+\n",
      "|prediction|area_type|      scaledFeatures|\n",
      "+----------+---------+--------------------+\n",
      "|       0.0|        1|[0.0,0.0102949397...|\n",
      "|       0.0|        0|[0.0,0.0133834216...|\n",
      "|       0.0|        0|[0.0,0.0360322890...|\n",
      "|       0.0|        1|[0.0,0.0411797589...|\n",
      "|       0.0|        0|[0.0,0.0463272287...|\n",
      "+----------+---------+--------------------+\n",
      "only showing top 5 rows\n",
      "\n",
      "0.9240119561236613\n",
      "0.9655635199368947\n"
     ]
    }
   ],
   "source": [
    "norm_test = norm_model.transform(test_norm)\n",
    "norm_test.select(\"prediction\",\"area_type\",\"scaledFeatures\").show(5)\n",
    "summ = norm_model.summary\n",
    "print(summ.accuracy)\n",
    "print(summ.areaUnderROC)"
   ]
  },
  {
   "cell_type": "code",
   "execution_count": 39,
   "id": "2ee33248-4b37-494a-9e9a-5ee23dd2cbbf",
   "metadata": {},
   "outputs": [
    {
     "name": "stdout",
     "output_type": "stream",
     "text": [
      "[[99844.  7790.]\n",
      " [ 6569. 73884.]]\n"
     ]
    }
   ],
   "source": [
    "preds_and_labels = norm_test.select(['prediction','area_type']).withColumn('area_type', F.col('area_type').cast(FloatType())).orderBy('prediction')\n",
    "preds_and_labels = preds_and_labels.select(['prediction','area_type'])\n",
    "metrics = MulticlassMetrics(preds_and_labels.rdd.map(tuple))\n",
    "print(metrics.confusionMatrix().toArray())"
   ]
  },
  {
   "cell_type": "code",
   "execution_count": 40,
   "id": "7e06a15d-f115-4832-b17d-c771077930f0",
   "metadata": {},
   "outputs": [],
   "source": [
    "#DEBUG\n",
    "#norm_test.select(\"prediction\",\"area_type\",\"scaledFeatures\").where(norm_test[\"prediction\"]==1.0).show(20)\n",
    "#DEBUG"
   ]
  },
  {
   "cell_type": "markdown",
   "id": "215a5631-9ff5-45a8-af16-6a7c1cfc9398",
   "metadata": {},
   "source": [
    "### Подбор гиперпараметров для модели классификации ###"
   ]
  },
  {
   "cell_type": "markdown",
   "id": "7fbd6060-fad7-4ddb-af04-92f2a6b90e12",
   "metadata": {},
   "source": [
    "Гиперпараметры модели клафиссикации \"Рандомный лес\": 'numTrees', 'maxDepth'."
   ]
  },
  {
   "cell_type": "markdown",
   "id": "e39989b2-8250-4aac-a64a-51a5c589833f",
   "metadata": {},
   "source": [
    "Создаем объект модели."
   ]
  },
  {
   "cell_type": "code",
   "execution_count": 41,
   "id": "6c5fb8e0-1dd0-49e9-88ae-3015cab74f58",
   "metadata": {},
   "outputs": [],
   "source": [
    "par_rf = RandomForestClassifier(featuresCol = 'scaledFeatures', labelCol = 'area_type')"
   ]
  },
  {
   "cell_type": "markdown",
   "id": "1b906bd4-da84-4911-8ea0-02d42059a875",
   "metadata": {},
   "source": [
    "Определение наборов параметров."
   ]
  },
  {
   "cell_type": "code",
   "execution_count": 45,
   "id": "954b33ee-783a-49c3-8778-21666b666297",
   "metadata": {},
   "outputs": [],
   "source": [
    "grid_search = ParamGridBuilder().addGrid(par_rf.numTrees, [1, 3, 5, 10]).addGrid(par_rf.maxDepth, [1, 3, 5]).build()"
   ]
  },
  {
   "cell_type": "markdown",
   "id": "a9e002b1-e917-4e36-8062-93e6fb9d18d4",
   "metadata": {},
   "source": [
    "### Построение модели классификации на нормализованных данных с гиперпараметрами ###"
   ]
  },
  {
   "cell_type": "markdown",
   "id": "9891dd12-8707-4bea-9c88-0c6df27ca6d5",
   "metadata": {},
   "source": [
    "Определение метрики качества."
   ]
  },
  {
   "cell_type": "code",
   "execution_count": 46,
   "id": "500f44b8-cc34-4d32-b7bb-7c2577479c50",
   "metadata": {},
   "outputs": [],
   "source": [
    "par_evaluator = RegressionEvaluator(predictionCol='prediction', labelCol='area_type', metricName=\"r2\")"
   ]
  },
  {
   "cell_type": "markdown",
   "id": "5ecfe6a1-a5e8-46dd-b875-950587103220",
   "metadata": {},
   "source": [
    "Запуск кроссвалидации, которая осуществляет подбор наилучших параметров модели."
   ]
  },
  {
   "cell_type": "code",
   "execution_count": 47,
   "id": "45162dda-c88f-4757-8e16-cccfe78fe8fb",
   "metadata": {},
   "outputs": [],
   "source": [
    "cv = CrossValidator(estimator=par_rf,\n",
    "                    estimatorParamMaps=grid_search,\n",
    "                    evaluator=par_evaluator)\n",
    "cv_model = cv.fit(train_norm)"
   ]
  },
  {
   "cell_type": "markdown",
   "id": "1a2ee966-c066-4b1b-b052-30e77ac8808d",
   "metadata": {},
   "source": [
    "Оценка качества модели."
   ]
  },
  {
   "cell_type": "code",
   "execution_count": 51,
   "id": "39f87db4-37a6-4c02-b0ef-3612668dbcac",
   "metadata": {},
   "outputs": [
    {
     "name": "stdout",
     "output_type": "stream",
     "text": [
      "0.9248091799090674\n",
      "0.9593072406287176\n"
     ]
    }
   ],
   "source": [
    "par_sum = cv_model.bestModel.summary\n",
    "print(par_sum.accuracy)\n",
    "print(par_sum.areaUnderROC)"
   ]
  },
  {
   "cell_type": "code",
   "execution_count": 49,
   "id": "bae482d7-1cb6-47f7-9798-bc05378680bc",
   "metadata": {},
   "outputs": [
    {
     "name": "stdout",
     "output_type": "stream",
     "text": [
      "+----------+--------------------+---------+\n",
      "|prediction|         probability|area_type|\n",
      "+----------+--------------------+---------+\n",
      "|       0.0|[0.73264907135874...|        1|\n",
      "|       0.0|[0.97538867952839...|        0|\n",
      "|       0.0|[0.97538867952839...|        0|\n",
      "|       0.0|[0.97538867952839...|        1|\n",
      "|       0.0|[0.97538867952839...|        0|\n",
      "|       0.0|[0.97538867952839...|        0|\n",
      "|       0.0|[0.97538867952839...|        0|\n",
      "|       0.0|[0.97538867952839...|        0|\n",
      "|       0.0|[0.97538867952839...|        0|\n",
      "|       0.0|[0.97538867952839...|        0|\n",
      "|       0.0|[0.97538867952839...|        0|\n",
      "|       0.0|[0.97538867952839...|        0|\n",
      "|       0.0|[0.97538867952839...|        0|\n",
      "|       0.0|[0.97538867952839...|        0|\n",
      "|       0.0|[0.97538867952839...|        0|\n",
      "|       0.0|[0.97538867952839...|        0|\n",
      "|       0.0|[0.97538867952839...|        0|\n",
      "|       0.0|[0.97538867952839...|        0|\n",
      "|       0.0|[0.97538867952839...|        0|\n",
      "|       0.0|[0.97538867952839...|        0|\n",
      "|       0.0|[0.97538867952839...|        0|\n",
      "|       0.0|[0.97538867952839...|        0|\n",
      "|       0.0|[0.97538867952839...|        0|\n",
      "|       0.0|[0.97538867952839...|        0|\n",
      "|       0.0|[0.97538867952839...|        0|\n",
      "+----------+--------------------+---------+\n",
      "only showing top 25 rows\n",
      "\n"
     ]
    }
   ],
   "source": [
    "predictions = cv_model.bestModel.transform(test_norm)\n",
    "predictions.select('prediction', 'probability', 'area_type').show(25)"
   ]
  },
  {
   "cell_type": "code",
   "execution_count": 50,
   "id": "ad0259eb-4e12-456b-a869-7a954e629b0f",
   "metadata": {},
   "outputs": [
    {
     "name": "stdout",
     "output_type": "stream",
     "text": [
      "[[100354.   7280.]\n",
      " [  6895.  73558.]]\n"
     ]
    }
   ],
   "source": [
    "preds_and_labels = predictions.select(['prediction','area_type']).withColumn('area_type', F.col('area_type').cast(FloatType())).orderBy('prediction')\n",
    "preds_and_labels = preds_and_labels.select(['prediction','area_type'])\n",
    "metrics = MulticlassMetrics(preds_and_labels.rdd.map(tuple))\n",
    "print(metrics.confusionMatrix().toArray())"
   ]
  },
  {
   "cell_type": "code",
   "execution_count": null,
   "id": "a3f60fca-999c-44ad-b05d-1d8789172131",
   "metadata": {},
   "outputs": [],
   "source": []
  }
 ],
 "metadata": {
  "kernelspec": {
   "display_name": "Python 3 (ipykernel)",
   "language": "python",
   "name": "python3"
  },
  "language_info": {
   "codemirror_mode": {
    "name": "ipython",
    "version": 3
   },
   "file_extension": ".py",
   "mimetype": "text/x-python",
   "name": "python",
   "nbconvert_exporter": "python",
   "pygments_lexer": "ipython3",
   "version": "3.10.8"
  }
 },
 "nbformat": 4,
 "nbformat_minor": 5
}
